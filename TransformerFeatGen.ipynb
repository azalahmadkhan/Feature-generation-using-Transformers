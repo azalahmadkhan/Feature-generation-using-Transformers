{
  "nbformat": 4,
  "nbformat_minor": 0,
  "metadata": {
    "colab": {
      "provenance": []
    },
    "kernelspec": {
      "name": "python3",
      "display_name": "Python 3"
    },
    "language_info": {
      "name": "python"
    },
    "gpuClass": "standard"
  },
  "cells": [
    {
      "cell_type": "markdown",
      "source": [
        "### Imports"
      ],
      "metadata": {
        "id": "NJSmqcGdsuPT"
      }
    },
    {
      "cell_type": "code",
      "source": [
        "import torch\n",
        "from torch import nn\n",
        "import numpy as np\n",
        "from sklearn.datasets import load_iris\n",
        "from sklearn.datasets import load_wine\n",
        "from sklearn.model_selection import train_test_split\n",
        "from sklearn.linear_model import LogisticRegression\n",
        "from sklearn.metrics import accuracy_score"
      ],
      "metadata": {
        "id": "rsmqLXjsElI_"
      },
      "execution_count": null,
      "outputs": []
    },
    {
      "cell_type": "markdown",
      "source": [
        "### Iris data"
      ],
      "metadata": {
        "id": "Fhvg-USgp-AH"
      }
    },
    {
      "cell_type": "markdown",
      "source": [
        "#### Load the iris dataset"
      ],
      "metadata": {
        "id": "xi4Nx8was8tl"
      }
    },
    {
      "cell_type": "code",
      "source": [
        "iris = load_iris()\n",
        "X, y = iris.data, iris.target"
      ],
      "metadata": {
        "id": "ScdYM-DfElGR"
      },
      "execution_count": null,
      "outputs": []
    },
    {
      "cell_type": "markdown",
      "source": [
        "#### Split the dataset into train and test sets"
      ],
      "metadata": {
        "id": "CGi_ggUls-ep"
      }
    },
    {
      "cell_type": "code",
      "source": [
        "X_train, X_test, y_train, y_test = train_test_split(X, y, test_size=0.2)"
      ],
      "metadata": {
        "id": "0xrc0aagElD4"
      },
      "execution_count": null,
      "outputs": []
    },
    {
      "cell_type": "markdown",
      "source": [
        "#### Define the transformer model"
      ],
      "metadata": {
        "id": "S-UTHtkbtBxg"
      }
    },
    {
      "cell_type": "code",
      "source": [
        "# Define the transformer model\n",
        "class TransformerModel(nn.Module):\n",
        "    def __init__(self, input_dim, output_dim, d_model, nhead, num_layers):\n",
        "        super().__init__()\n",
        "\n",
        "        self.pos_encoder = nn.Sequential(\n",
        "            nn.Linear(input_dim, d_model),\n",
        "            nn.ReLU(),\n",
        "            nn.Linear(d_model, d_model)\n",
        "        )\n",
        "\n",
        "        self.transformer_encoder = nn.TransformerEncoder(\n",
        "            nn.TransformerEncoderLayer(d_model=d_model, nhead=nhead),\n",
        "            num_layers=num_layers\n",
        "        )\n",
        "\n",
        "        self.decoder = nn.Linear(d_model, output_dim)\n",
        "\n",
        "    def forward(self, x):\n",
        "        x = self.pos_encoder(x)\n",
        "        x = self.transformer_encoder(x)\n",
        "        x = self.decoder(x)\n",
        "        return x"
      ],
      "metadata": {
        "id": "jh5mjr7HElA_"
      },
      "execution_count": null,
      "outputs": []
    },
    {
      "cell_type": "markdown",
      "source": [
        "#### Define the hyperparameters"
      ],
      "metadata": {
        "id": "iWobGBQ8tEsG"
      }
    },
    {
      "cell_type": "code",
      "source": [
        "input_dim = X.shape[1]\n",
        "output_dim = 5\n",
        "d_model = 128\n",
        "nhead = 4\n",
        "num_layers = 4\n",
        "lr = 0.0001\n",
        "epochs = 1000\n",
        "batch_size = 16"
      ],
      "metadata": {
        "id": "wc5s0B5qFMlu"
      },
      "execution_count": null,
      "outputs": []
    },
    {
      "cell_type": "markdown",
      "source": [
        "#### Define the optimizer and loss function"
      ],
      "metadata": {
        "id": "OSXtAwm9tH4_"
      }
    },
    {
      "cell_type": "code",
      "source": [
        "# Define the model\n",
        "model = TransformerModel(input_dim, output_dim, d_model, nhead, num_layers)\n",
        "\n",
        "# Define the optimizer and loss function\n",
        "optimizer = torch.optim.Adam(model.parameters(), lr=lr)\n",
        "criterion = nn.CrossEntropyLoss()"
      ],
      "metadata": {
        "id": "lEnmvHNGFOnP"
      },
      "execution_count": null,
      "outputs": []
    },
    {
      "cell_type": "markdown",
      "source": [
        "#### Train the model"
      ],
      "metadata": {
        "id": "naGwJpvBtKqh"
      }
    },
    {
      "cell_type": "code",
      "source": [
        "# Train the model\n",
        "for epoch in range(epochs):\n",
        "    # Shuffle the training data\n",
        "    perm = torch.randperm(len(X_train))\n",
        "    X_train = X_train[perm]\n",
        "    y_train = y_train[perm]\n",
        "\n",
        "    # Split the training data into batches\n",
        "    for i in range(0, len(X_train), batch_size):\n",
        "        # Get the current batch\n",
        "        X_batch = torch.tensor(X_train[i:i+batch_size]).float()\n",
        "        y_batch = torch.tensor(y_train[i:i+batch_size])\n",
        "\n",
        "        # Zero the gradients\n",
        "        optimizer.zero_grad()\n",
        "\n",
        "        # Forward pass\n",
        "        output = model(X_batch)\n",
        "\n",
        "        # Calculate the loss\n",
        "        loss = criterion(output, y_batch)\n",
        "\n",
        "        # Backward pass\n",
        "        loss.backward()\n",
        "\n",
        "        # Update the weights\n",
        "        optimizer.step()\n",
        "\n",
        "    # Print the loss every 100 epochs\n",
        "    if epoch % 100 == 0:\n",
        "        print(f\"Epoch {epoch}, Loss: {loss.item()}\")\n"
      ],
      "metadata": {
        "colab": {
          "base_uri": "https://localhost:8080/"
        },
        "id": "9rgggdz9FSpb",
        "outputId": "195acc4f-c2ee-4202-a004-fc40dc841b6d"
      },
      "execution_count": null,
      "outputs": [
        {
          "output_type": "stream",
          "name": "stdout",
          "text": [
            "Epoch 0, Loss: 1.181822419166565\n",
            "Epoch 100, Loss: 0.06787852942943573\n",
            "Epoch 200, Loss: 0.17914697527885437\n",
            "Epoch 300, Loss: 0.06281807273626328\n",
            "Epoch 400, Loss: 0.05809047818183899\n",
            "Epoch 500, Loss: 0.12390032410621643\n",
            "Epoch 600, Loss: 0.02472449652850628\n",
            "Epoch 700, Loss: 0.0038020098581910133\n",
            "Epoch 800, Loss: 0.027068650349974632\n",
            "Epoch 900, Loss: 0.005737978965044022\n"
          ]
        }
      ]
    },
    {
      "cell_type": "markdown",
      "source": [
        "#### Generate new data"
      ],
      "metadata": {
        "id": "NaT0glWDtOAB"
      }
    },
    {
      "cell_type": "code",
      "source": [
        "# Generate new data\n",
        "generated_data = []\n",
        "for i in range(120):\n",
        "    # Generate a random input vector\n",
        "    x = torch.rand(input_dim).unsqueeze(0)\n",
        "\n",
        "    # Forward pass through the model to generate the output vector\n",
        "    output = model(x)\n",
        "\n",
        "    # Convert the output vector to a numpy array\n",
        "    generated_data.append(output.detach().numpy())\n",
        "\n",
        "# Convert the generated data to a numpy array\n",
        "generated_data = np.array(generated_data)\n",
        "\n",
        "generated_data = model(torch.tensor(X_train).float())"
      ],
      "metadata": {
        "id": "mXOof2hjF_fK"
      },
      "execution_count": null,
      "outputs": []
    },
    {
      "cell_type": "markdown",
      "source": [
        "#### Logistic regression model"
      ],
      "metadata": {
        "id": "8iTHrh8ntRjS"
      }
    },
    {
      "cell_type": "code",
      "source": [
        "import statistics as st\n",
        "accuracy_raw = []\n",
        "for i in range(30):   \n",
        "    # Train a logistic regression model on the raw features\n",
        "    lr_raw = LogisticRegression(max_iter = 10000)\n",
        "    lr_raw.fit(X_train, y_train)\n",
        "\n",
        "    # Test the logistic regression model on the test set\n",
        "    y_pred_raw = lr_raw.predict(X_test)\n",
        "    accuracy_raw.append(accuracy_score(y_test, y_pred_raw))\n",
        "acc_raw = st.mean(accuracy_raw)\n",
        "# Generate new data for the testing set\n",
        "X_test_generated = model(torch.tensor(X_test).float())\n",
        "\n",
        "# Train a logistic regression model on the generated features from the training set\n",
        "accuracy_generated = []\n",
        "for i in range(30):\n",
        "    lr_generated = LogisticRegression(max_iter = 10000)\n",
        "    lr_generated.fit(generated_data.detach().numpy(), y_train)\n",
        "\n",
        "    # Evaluate the logistic regression model on the generated features from the testing set\n",
        "    y_pred_generated = lr_generated.predict(X_test_generated.detach().numpy())\n",
        "    accuracy_generated.append(accuracy_score(y_test, y_pred_generated))\n",
        "\n",
        "acc_generated = st.mean(accuracy_generated)\n",
        "\n",
        "X_train_raw_gen = np.concatenate((X_train, generated_data.detach().numpy()), axis=1)\n",
        "X_test_raw_gen = np.concatenate((X_test, X_test_generated.detach().numpy()), axis=1)\n",
        "# Train a logistic regression model on the generated features from the training set\n",
        "accuracy_raw_gen = []\n",
        "for i in range(30):\n",
        "    lr_generated = LogisticRegression(max_iter = 10000)\n",
        "    lr_generated.fit(X_train_raw_gen, y_train)\n",
        "\n",
        "    # Evaluate the logistic regression model on the generated features from the testing set\n",
        "    y_pred_generated = lr_generated.predict(X_test_raw_gen)\n",
        "    accuracy_raw_gen.append(accuracy_score(y_test, y_pred_generated))\n",
        "\n",
        "acc_raw_gen = st.mean(accuracy_raw_gen)"
      ],
      "metadata": {
        "id": "xk6NyGxSGFid"
      },
      "execution_count": null,
      "outputs": []
    },
    {
      "cell_type": "markdown",
      "source": [
        "#### Accuracies"
      ],
      "metadata": {
        "id": "WiwazvIrtXYs"
      }
    },
    {
      "cell_type": "code",
      "source": [
        "# Print the accuracy scores\n",
        "print(f\"Accuracy with raw features: {acc_raw}\")\n",
        "print(f\"Accuracy with generated features: {acc_generated}\")\n",
        "print(f\"Accuracy with raw and generated features: {acc_raw_gen}\")"
      ],
      "metadata": {
        "colab": {
          "base_uri": "https://localhost:8080/"
        },
        "id": "g4rGrlTSGI3j",
        "outputId": "4168a8a8-9b01-4222-fb34-8c0663192118"
      },
      "execution_count": null,
      "outputs": [
        {
          "output_type": "stream",
          "name": "stdout",
          "text": [
            "Accuracy with raw features: 0.9666666666666667\n",
            "Accuracy with generated features: 1.0\n",
            "Accuracy with raw and generated features: 1.0\n"
          ]
        }
      ]
    },
    {
      "cell_type": "markdown",
      "source": [
        "### Wine data"
      ],
      "metadata": {
        "id": "MqUmj510qB7Z"
      }
    },
    {
      "cell_type": "markdown",
      "source": [
        "#### Load the wine dataset"
      ],
      "metadata": {
        "id": "5t7S-TK2uW0Q"
      }
    },
    {
      "cell_type": "code",
      "source": [
        "wine = load_wine()\n",
        "X, y = wine.data, wine.target"
      ],
      "metadata": {
        "id": "FEmNwhcUIwyd"
      },
      "execution_count": null,
      "outputs": []
    },
    {
      "cell_type": "markdown",
      "source": [
        "#### Split the dataset into train and test sets"
      ],
      "metadata": {
        "id": "xAQ3WH1zuTlq"
      }
    },
    {
      "cell_type": "code",
      "source": [
        "X_train, X_test, y_train, y_test = train_test_split(X, y, test_size=0.2)"
      ],
      "metadata": {
        "id": "ZIja4AWMqJiA"
      },
      "execution_count": null,
      "outputs": []
    },
    {
      "cell_type": "markdown",
      "source": [
        "#### Define the transformer model"
      ],
      "metadata": {
        "id": "fYE5MD7ouQCG"
      }
    },
    {
      "cell_type": "code",
      "source": [
        "# Define the transformer model\n",
        "class TransformerModel(nn.Module):\n",
        "    def __init__(self, input_dim, output_dim, d_model, nhead, num_layers):\n",
        "        super().__init__()\n",
        "\n",
        "        self.pos_encoder = nn.Sequential(\n",
        "            nn.Linear(input_dim, d_model),\n",
        "            nn.ReLU(),\n",
        "            nn.Linear(d_model, d_model)\n",
        "        )\n",
        "\n",
        "        self.transformer_encoder = nn.TransformerEncoder(\n",
        "            nn.TransformerEncoderLayer(d_model=d_model, nhead=nhead),\n",
        "            num_layers=num_layers\n",
        "        )\n",
        "\n",
        "        self.decoder = nn.Linear(d_model, output_dim)\n",
        "\n",
        "    def forward(self, x):\n",
        "        x = self.pos_encoder(x)\n",
        "        x = self.transformer_encoder(x)\n",
        "        x = self.decoder(x)\n",
        "        return x"
      ],
      "metadata": {
        "id": "G9l_umg1qKJl"
      },
      "execution_count": null,
      "outputs": []
    },
    {
      "cell_type": "markdown",
      "source": [
        "#### Define the hyperparameters"
      ],
      "metadata": {
        "id": "tRNSYpT8uL37"
      }
    },
    {
      "cell_type": "code",
      "source": [
        "input_dim = X.shape[1]\n",
        "output_dim = 5\n",
        "d_model = 128\n",
        "nhead = 4\n",
        "num_layers = 4\n",
        "lr = 0.0001\n",
        "epochs = 1000\n",
        "batch_size = 16"
      ],
      "metadata": {
        "id": "vheu6rQprS3L"
      },
      "execution_count": null,
      "outputs": []
    },
    {
      "cell_type": "markdown",
      "source": [
        "#### Define the optimizer and loss function"
      ],
      "metadata": {
        "id": "BAGG1bcAuIjm"
      }
    },
    {
      "cell_type": "code",
      "source": [
        "# Define the model\n",
        "model = TransformerModel(input_dim, output_dim, d_model, nhead, num_layers)\n",
        "\n",
        "# Define the optimizer and loss function\n",
        "optimizer = torch.optim.Adam(model.parameters(), lr=lr)\n",
        "criterion = nn.CrossEntropyLoss()"
      ],
      "metadata": {
        "id": "fDyEQLqkrVq1"
      },
      "execution_count": null,
      "outputs": []
    },
    {
      "cell_type": "markdown",
      "source": [
        "#### Train the model"
      ],
      "metadata": {
        "id": "Gjsi9PWKuES2"
      }
    },
    {
      "cell_type": "code",
      "source": [
        "# Train the model\n",
        "for epoch in range(epochs):\n",
        "    # Shuffle the training data\n",
        "    perm = torch.randperm(len(X_train))\n",
        "    X_train = X_train[perm]\n",
        "    y_train = y_train[perm]\n",
        "\n",
        "    # Split the training data into batches\n",
        "    for i in range(0, len(X_train), batch_size):\n",
        "        # Get the current batch\n",
        "        X_batch = torch.tensor(X_train[i:i+batch_size]).float()\n",
        "        y_batch = torch.tensor(y_train[i:i+batch_size])\n",
        "\n",
        "        # Zero the gradients\n",
        "        optimizer.zero_grad()\n",
        "\n",
        "        # Forward pass\n",
        "        output = model(X_batch)\n",
        "\n",
        "        # Calculate the loss\n",
        "        loss = criterion(output, y_batch)\n",
        "\n",
        "\n",
        "        # Backward pass\n",
        "        loss.backward()\n",
        "\n",
        "        # Update the weights\n",
        "        optimizer.step()\n",
        "\n",
        "    # Print the loss every 100 epochs\n",
        "    if epoch % 100 == 0:\n",
        "        print(f\"Epoch {epoch}, Loss: {loss.item()}\")"
      ],
      "metadata": {
        "colab": {
          "base_uri": "https://localhost:8080/"
        },
        "id": "VgqR49EtraSn",
        "outputId": "89d161aa-8dcf-44b7-84b2-e2be4f346def"
      },
      "execution_count": null,
      "outputs": [
        {
          "output_type": "stream",
          "name": "stdout",
          "text": [
            "Epoch 0, Loss: 1.111077904701233\n",
            "Epoch 100, Loss: 0.6046842932701111\n",
            "Epoch 200, Loss: 0.5480426549911499\n",
            "Epoch 300, Loss: 0.5736216902732849\n",
            "Epoch 400, Loss: 0.3647303581237793\n",
            "Epoch 500, Loss: 0.018755024299025536\n",
            "Epoch 600, Loss: 0.2550407350063324\n",
            "Epoch 700, Loss: 0.11244769394397736\n",
            "Epoch 800, Loss: 0.05715213343501091\n",
            "Epoch 900, Loss: 0.01958932913839817\n"
          ]
        }
      ]
    },
    {
      "cell_type": "markdown",
      "source": [
        "#### Generate new data"
      ],
      "metadata": {
        "id": "IdaTfx4HuAUI"
      }
    },
    {
      "cell_type": "code",
      "source": [
        "# Generate new data\n",
        "generated_data = []\n",
        "for i in range(120):\n",
        "    # Generate a random input vector\n",
        "    x = torch.rand(input_dim).unsqueeze(0)\n",
        "\n",
        "    # Forward pass through the model to generate the output vector\n",
        "    output = model(x)\n",
        "\n",
        "    # Convert the output vector to a numpy array\n",
        "    generated_data.append(output.detach().numpy())\n",
        "\n",
        "# Convert the generated data to a numpy array\n",
        "generated_data = np.array(generated_data)\n",
        "\n",
        "generated_data = model(torch.tensor(X_train).float())"
      ],
      "metadata": {
        "id": "EwpmmqLYrd3e"
      },
      "execution_count": null,
      "outputs": []
    },
    {
      "cell_type": "markdown",
      "source": [
        "#### Logistic regression model"
      ],
      "metadata": {
        "id": "HEFl39b7t9NE"
      }
    },
    {
      "cell_type": "code",
      "source": [
        "import statistics as st\n",
        "accuracy_raw = []\n",
        "for i in range(30):   \n",
        "    # Train a logistic regression model on the raw features\n",
        "    lr_raw = LogisticRegression(max_iter = 10000)\n",
        "    lr_raw.fit(X_train, y_train)\n",
        "\n",
        "    # Test the logistic regression model on the test set\n",
        "    y_pred_raw = lr_raw.predict(X_test)\n",
        "    accuracy_raw.append(accuracy_score(y_test, y_pred_raw))\n",
        "acc_raw = st.mean(accuracy_raw)\n",
        "# Generate new data for the testing set\n",
        "X_test_generated = model(torch.tensor(X_test).float())\n",
        "\n",
        "# Train a logistic regression model on the generated features from the training set\n",
        "accuracy_generated = []\n",
        "for i in range(30):\n",
        "    lr_generated = LogisticRegression(max_iter = 10000)\n",
        "    lr_generated.fit(generated_data.detach().numpy(), y_train)\n",
        "\n",
        "    # Evaluate the logistic regression model on the generated features from the testing set\n",
        "    y_pred_generated = lr_generated.predict(X_test_generated.detach().numpy())\n",
        "    accuracy_generated.append(accuracy_score(y_test, y_pred_generated))\n",
        "\n",
        "acc_generated = st.mean(accuracy_generated)\n",
        "\n",
        "X_train_raw_gen = np.concatenate((X_train, generated_data.detach().numpy()), axis=1)\n",
        "X_test_raw_gen = np.concatenate((X_test, X_test_generated.detach().numpy()), axis=1)\n",
        "# Train a logistic regression model on the generated features from the training set\n",
        "accuracy_raw_gen = []\n",
        "for i in range(30):\n",
        "    lr_generated = LogisticRegression(max_iter = 10000)\n",
        "    lr_generated.fit(X_train_raw_gen, y_train)\n",
        "\n",
        "    # Evaluate the logistic regression model on the generated features from the testing set\n",
        "    y_pred_generated = lr_generated.predict(X_test_raw_gen)\n",
        "    accuracy_raw_gen.append(accuracy_score(y_test, y_pred_generated))\n",
        "\n",
        "acc_raw_gen = st.mean(accuracy_raw_gen)"
      ],
      "metadata": {
        "id": "TxXFvlswZArX"
      },
      "execution_count": null,
      "outputs": []
    },
    {
      "cell_type": "markdown",
      "source": [
        "#### Accuracies"
      ],
      "metadata": {
        "id": "LqWahc--t5_i"
      }
    },
    {
      "cell_type": "code",
      "source": [
        "# Print the accuracy scores\n",
        "print(f\"Accuracy with raw features: {acc_raw}\")\n",
        "print(f\"Accuracy with generated features: {acc_generated}\")\n",
        "print(f\"Accuracy with raw and generated features: {acc_raw_gen}\")"
      ],
      "metadata": {
        "colab": {
          "base_uri": "https://localhost:8080/"
        },
        "id": "DYyC39K5si1F",
        "outputId": "2b1dbf6f-3a77-4c62-b83f-215abd6e2382"
      },
      "execution_count": null,
      "outputs": [
        {
          "output_type": "stream",
          "name": "stdout",
          "text": [
            "Accuracy with raw features: 0.9722222222222222\n",
            "Accuracy with generated features: 0.8333333333333334\n",
            "Accuracy with raw and generated features: 0.9444444444444444\n"
          ]
        }
      ]
    },
    {
      "cell_type": "markdown",
      "source": [
        "### Analysis"
      ],
      "metadata": {
        "id": "mPD6YPDPub80"
      }
    },
    {
      "cell_type": "code",
      "source": [
        "import matplotlib.pyplot as plt\n",
        "\n",
        "Dataset = ['Iris', 'Wine']\n",
        "raw_features = [0.9666666666666667, 0.9722222222222222]\n",
        "generated_features = [1.0, 0.8333333333333334]\n",
        "raw_generated_features = [1.0, 0.9444444444444444]\n",
        "\n",
        "# Set the width of the bars\n",
        "barWidth = 0.25\n",
        "\n",
        "# Set the positions of the bars on the x-axis\n",
        "r1 = range(len(Dataset))\n",
        "r2 = [x + barWidth for x in r1]\n",
        "r3 = [x + 2*barWidth for x in r1]\n",
        "\n",
        "# Create the bar chart\n",
        "plt.bar(r1, raw_features, color='blue', width=barWidth, edgecolor='black', label='Raw Features')\n",
        "plt.bar(r2, generated_features, color='red', width=barWidth, edgecolor='black', label='Generated Features')\n",
        "plt.bar(r3, raw_generated_features, color='orange', width=barWidth, edgecolor='black', label='Raw + Generated Features')\n",
        "\n",
        "# Add xticks on the middle of the group bars\n",
        "plt.xticks([r + barWidth/2 for r in range(len(Dataset))], Dataset)\n",
        "\n",
        "# Set the y-axis label\n",
        "plt.ylabel('Accuracy')\n",
        "\n",
        "# Add a title to the chart\n",
        "plt.title('Comparison of Raw, Generated, and Raw + Gen')\n",
        "\n",
        "# Add a legend\n",
        "plt.legend(loc='lower right')\n",
        "\n",
        "# Show the plot\n",
        "plt.show()\n"
      ],
      "metadata": {
        "colab": {
          "base_uri": "https://localhost:8080/",
          "height": 281
        },
        "id": "ozDkFcayueN8",
        "outputId": "904cff5e-fa8a-4920-eed7-78a5022c65a6"
      },
      "execution_count": null,
      "outputs": [
        {
          "output_type": "display_data",
          "data": {
            "text/plain": [
              "<Figure size 432x288 with 1 Axes>"
            ],
            "image/png": "[encoded data removed]"
          },
          "metadata": {
            "needs_background": "light"
          }
        }
      ]
    }
  ]
}